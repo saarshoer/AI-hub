{
 "cells": [
  {
   "cell_type": "markdown",
   "metadata": {},
   "source": [
    "**If you are not familiar with jupyter notebook read this intoduction https://realpython.com/jupyter-notebook-introduction/**"
   ]
  },
  {
   "cell_type": "markdown",
   "metadata": {},
   "source": [
    "**Read the introduction section of the paper**"
   ]
  },
  {
   "cell_type": "markdown",
   "metadata": {},
   "source": [
    "# Settings"
   ]
  },
  {
   "cell_type": "markdown",
   "metadata": {},
   "source": [
    "Importing python packages"
   ]
  },
  {
   "cell_type": "code",
   "execution_count": null,
   "metadata": {},
   "outputs": [],
   "source": [
    "import math\n",
    "import numpy as np\n",
    "import pandas as pd\n",
    "import seaborn as sns\n",
    "import matplotlib as mpl\n",
    "import matplotlib.pyplot as plt\n",
    "from matplotlib import rcParams\n",
    "import plotly.graph_objects as go\n",
    "from pingouin import mediation_analysis\n",
    "from statannot import add_stat_annotation\n",
    "from scipy.stats import pearsonr, mannwhitneyu, wilcoxon"
   ]
  },
  {
   "cell_type": "code",
   "execution_count": null,
   "metadata": {},
   "outputs": [],
   "source": [
    "# allows the output of the code to be displayed within the jupyter cell\n",
    "from IPython.core.interactiveshell import InteractiveShell\n",
    "InteractiveShell.ast_node_interactivity = 'all'"
   ]
  },
  {
   "cell_type": "markdown",
   "metadata": {},
   "source": [
    "Figure parameters"
   ]
  },
  {
   "cell_type": "code",
   "execution_count": null,
   "metadata": {},
   "outputs": [],
   "source": [
    "rcParams['font.size'] = 12\n",
    "rcParams['figure.figsize'] = (9, 6)\n",
    "rcParams['savefig.dpi'] = 300\n",
    "rcParams['savefig.format'] = 'png'"
   ]
  },
  {
   "cell_type": "markdown",
   "metadata": {},
   "source": [
    "Study parameters"
   ]
  },
  {
   "cell_type": "code",
   "execution_count": null,
   "metadata": {},
   "outputs": [],
   "source": [
    "colors = {\n",
    "    'MED diet': 'cornflowerblue', \n",
    "    'PPT diet': 'orange',\n",
    "    'Gut': 'lightpink',\n",
    "    'Oral': 'mediumseagreen'}"
   ]
  },
  {
   "cell_type": "code",
   "execution_count": null,
   "metadata": {},
   "outputs": [],
   "source": [
    "diet_order = ['PPT diet', 'MED diet']\n",
    "time_point_order = ['Pre-intervention', 'Post-intervention']\n",
    "env_order = ['Oral', 'Gut']\n",
    "mediation_order = ['diet-species-glucose', 'diet-species-serum', \n",
    "                   'diet-pathways-glucose', 'diet-pathways-serum', \n",
    "                   'diet-strains-glucose', 'diet-strains-serum']"
   ]
  },
  {
   "cell_type": "code",
   "execution_count": null,
   "metadata": {},
   "outputs": [],
   "source": [
    "# the order they are introduced in the paper\n",
    "data_types = ['diet', 'gut species', 'gut pathways', 'oral species', 'oral pathways', 'metabolites', 'cytokines']"
   ]
  },
  {
   "cell_type": "code",
   "execution_count": null,
   "metadata": {},
   "outputs": [],
   "source": [
    "alpha = 0.05  # of statistical tests"
   ]
  },
  {
   "cell_type": "code",
   "execution_count": null,
   "metadata": {},
   "outputs": [],
   "source": [
    "# function to calculate the difference in feature values between the post- and pre- intervention samples\n",
    "def get_delta(df):\n",
    "   \n",
    "    pre = df.xs('Pre-intervention', level='Time Point')\n",
    "    post = df.xs('Post-intervention', level='Time Point')\n",
    "\n",
    "    return post.subtract(pre)"
   ]
  },
  {
   "cell_type": "markdown",
   "metadata": {},
   "source": [
    "# Data"
   ]
  },
  {
   "cell_type": "markdown",
   "metadata": {},
   "source": [
    "**If you are not familiar with numpy go over this tutorial https://numpy.org/doc/stable/user/absolute_beginners.html**"
   ]
  },
  {
   "cell_type": "markdown",
   "metadata": {},
   "source": [
    "**If you are not familiar with pandas go over these tutorials https://pandas.pydata.org/docs/getting_started/intro_tutorials/index.html**"
   ]
  },
  {
   "cell_type": "markdown",
   "metadata": {},
   "source": [
    "**Read the results section titled \"Dietary interventions in pre-diabetes\"**"
   ]
  },
  {
   "cell_type": "markdown",
   "metadata": {},
   "source": [
    "Load the excel file called basic.xlsx using the pandas package"
   ]
  },
  {
   "cell_type": "code",
   "execution_count": null,
   "metadata": {},
   "outputs": [],
   "source": []
  },
  {
   "cell_type": "markdown",
   "metadata": {},
   "source": [
    "Set the Diet, Participant ID and Time Point columns as index"
   ]
  },
  {
   "cell_type": "code",
   "execution_count": null,
   "metadata": {},
   "outputs": [],
   "source": []
  },
  {
   "cell_type": "markdown",
   "metadata": {},
   "source": [
    "Here is an example of how to do it"
   ]
  },
  {
   "cell_type": "code",
   "execution_count": null,
   "metadata": {},
   "outputs": [],
   "source": [
    "file_name = 'basic.xlsx'\n",
    "basic = pd.read_excel(file_name)\n",
    "basic.head()"
   ]
  },
  {
   "cell_type": "code",
   "execution_count": null,
   "metadata": {},
   "outputs": [],
   "source": [
    "index = ['Diet', 'Participant ID', 'Time Point']\n",
    "basic = basic.set_index(index)\n",
    "basic.head()"
   ]
  },
  {
   "cell_type": "markdown",
   "metadata": {},
   "source": [
    "Explore the data frame"
   ]
  },
  {
   "cell_type": "code",
   "execution_count": null,
   "metadata": {},
   "outputs": [],
   "source": [
    "basic"
   ]
  },
  {
   "cell_type": "code",
   "execution_count": null,
   "metadata": {},
   "outputs": [],
   "source": []
  },
  {
   "cell_type": "markdown",
   "metadata": {},
   "source": [
    "Does it have the expected amount of participants mentioned in the paper? in each diet group? and in each time point?"
   ]
  },
  {
   "cell_type": "code",
   "execution_count": null,
   "metadata": {},
   "outputs": [],
   "source": []
  },
  {
   "cell_type": "markdown",
   "metadata": {},
   "source": [
    "Here is an example of how to do it"
   ]
  },
  {
   "cell_type": "code",
   "execution_count": null,
   "metadata": {},
   "outputs": [],
   "source": [
    "for i in index:\n",
    "    index_values = basic.index.get_level_values(i)\n",
    "    index_values.value_counts()"
   ]
  },
  {
   "cell_type": "markdown",
   "metadata": {},
   "source": [
    "Does it have missing values? which feature and which person have the most missing values?"
   ]
  },
  {
   "cell_type": "code",
   "execution_count": null,
   "metadata": {},
   "outputs": [],
   "source": []
  },
  {
   "cell_type": "markdown",
   "metadata": {},
   "source": [
    "Here is an example of how to do it"
   ]
  },
  {
   "cell_type": "code",
   "execution_count": null,
   "metadata": {},
   "outputs": [],
   "source": [
    "basic.isna()"
   ]
  },
  {
   "cell_type": "code",
   "execution_count": null,
   "metadata": {},
   "outputs": [],
   "source": [
    "basic.isna().sum()"
   ]
  },
  {
   "cell_type": "code",
   "execution_count": null,
   "metadata": {},
   "outputs": [],
   "source": [
    "basic.isna().sum().sort_values(ascending=False)"
   ]
  },
  {
   "cell_type": "code",
   "execution_count": null,
   "metadata": {},
   "outputs": [],
   "source": [
    "basic.isna().sum(axis=1).sort_values(ascending=False)"
   ]
  },
  {
   "cell_type": "markdown",
   "metadata": {},
   "source": [
    "Calculate the in person change of blood test (bt) glygcated hemoglobin (hba1c)"
   ]
  },
  {
   "cell_type": "code",
   "execution_count": null,
   "metadata": {},
   "outputs": [],
   "source": []
  },
  {
   "cell_type": "markdown",
   "metadata": {},
   "source": [
    "Compare the means of the two diet groups"
   ]
  },
  {
   "cell_type": "code",
   "execution_count": null,
   "metadata": {},
   "outputs": [],
   "source": []
  },
  {
   "cell_type": "markdown",
   "metadata": {},
   "source": [
    "Here is an example of how to do it"
   ]
  },
  {
   "cell_type": "code",
   "execution_count": null,
   "metadata": {},
   "outputs": [],
   "source": [
    "get_delta(basic)"
   ]
  },
  {
   "cell_type": "code",
   "execution_count": null,
   "metadata": {},
   "outputs": [],
   "source": [
    "get_delta(basic)['bt__hba1c']"
   ]
  },
  {
   "cell_type": "code",
   "execution_count": null,
   "metadata": {},
   "outputs": [],
   "source": [
    "get_delta(basic)['bt__hba1c'].mean()"
   ]
  },
  {
   "cell_type": "code",
   "execution_count": null,
   "metadata": {},
   "outputs": [],
   "source": [
    "get_delta(basic)['bt__hba1c'].groupby('Diet').mean()"
   ]
  },
  {
   "cell_type": "markdown",
   "metadata": {},
   "source": [
    "## Table 1"
   ]
  },
  {
   "cell_type": "markdown",
   "metadata": {},
   "source": [
    "Re-create Table 1 of the paper based on \"basic.xlsx\""
   ]
  },
  {
   "cell_type": "code",
   "execution_count": null,
   "metadata": {},
   "outputs": [],
   "source": []
  },
  {
   "cell_type": "markdown",
   "metadata": {},
   "source": [
    "Here is an example of how to do it"
   ]
  },
  {
   "cell_type": "code",
   "execution_count": null,
   "metadata": {},
   "outputs": [],
   "source": [
    "basic.xs('Pre-intervention', level='Time Point')"
   ]
  },
  {
   "cell_type": "code",
   "execution_count": null,
   "metadata": {},
   "outputs": [],
   "source": [
    "basic.xs('Pre-intervention', level='Time Point').groupby('Diet').mean()"
   ]
  },
  {
   "cell_type": "code",
   "execution_count": null,
   "metadata": {},
   "outputs": [],
   "source": [
    "basic.xs('Pre-intervention', level='Time Point').groupby('Diet').mean().T"
   ]
  },
  {
   "cell_type": "code",
   "execution_count": null,
   "metadata": {},
   "outputs": [],
   "source": [
    "basic.xs('Pre-intervention', level='Time Point').groupby('Diet').mean().T[diet_order]"
   ]
  },
  {
   "cell_type": "code",
   "execution_count": null,
   "metadata": {},
   "outputs": [],
   "source": [
    "basic.xs('Pre-intervention', level='Time Point').groupby('Diet').std().T[diet_order]"
   ]
  },
  {
   "cell_type": "markdown",
   "metadata": {},
   "source": [
    "**Read the method section titled \"Data Processing\"**\\\n",
    "It referes to the data in Supplementary file 1"
   ]
  },
  {
   "cell_type": "markdown",
   "metadata": {},
   "source": [
    "The code below loads all the data from the supplementary files, it can take a few minutes"
   ]
  },
  {
   "cell_type": "code",
   "execution_count": null,
   "metadata": {
    "scrolled": true
   },
   "outputs": [],
   "source": [
    "data = {}\n",
    "\n",
    "s1 = 'Supplementary file 1 - Source data.xlsx'\n",
    "index = ['Diet', 'Participant ID', 'Time Point']\n",
    "for data_type in data_types:\n",
    "    header = 12 if data_type == 'metabolites' else 0\n",
    "    data[data_type] = pd.read_excel(s1, sheet_name=data_type, header=header).set_index(index)\n",
    "\n",
    "s2 = 'Supplementary file 2 - Statistical tests.xlsx'\n",
    "index = ['Diet', 'Participant ID', 'Time Point']\n",
    "for data_type in data_types:\n",
    "    for diet in diet_order:\n",
    "        data[f'{data_type} {diet}'] = pd.read_excel(s2, sheet_name=f'{data_type} {diet}').set_index('feature')\n",
    "\n",
    "s3 = 'Supplementary file 3 - Mediation analyses.xlsx'\n",
    "index = ['path', 'x', 'm', 'y']\n",
    "for med in mediation_order:\n",
    "    suffix = env_order if 'strains' in med else diet_order\n",
    "    for suf in suffix:\n",
    "        data[f'{med} {suf}'] = pd.read_excel(s3, sheet_name=f'{med} {suf.split(\" \")[0]}', index_col=[0, 1, 2, 3])\n",
    "        \n",
    "s4 = 'Supplementary file 4 - Metabolites prediction by the microbiome.xlsx'\n",
    "index = ['Diet', 'Participant ID', 'Time Point']\n",
    "data_type = 'metabolites prediction'\n",
    "data[data_type] = pd.read_excel(s4, sheet_name=data_type, header=[0, 1]).T.reset_index(0).T.set_index(index)\n",
    "\n",
    "s5 = 'Supplementary file 5 - Oral and gut microbial strains.xlsx'\n",
    "index = ['Species', 'Participant ID', 'Diet']\n",
    "for env in env_order:\n",
    "    data_type = f'{env.lower()} strains'\n",
    "    data[data_type] = pd.read_excel(s5, sheet_name=data_type).set_index(index)"
   ]
  },
  {
   "cell_type": "markdown",
   "metadata": {},
   "source": [
    "The data is saved in a dictionary, with each value being a data frame"
   ]
  },
  {
   "cell_type": "code",
   "execution_count": null,
   "metadata": {},
   "outputs": [],
   "source": [
    "for key in data.keys():\n",
    "    print(key, data[key].shape)"
   ]
  },
  {
   "cell_type": "markdown",
   "metadata": {},
   "source": [
    "For example"
   ]
  },
  {
   "cell_type": "code",
   "execution_count": null,
   "metadata": {},
   "outputs": [],
   "source": [
    "data['diet']"
   ]
  },
  {
   "cell_type": "markdown",
   "metadata": {},
   "source": [
    "# Visualization"
   ]
  },
  {
   "cell_type": "markdown",
   "metadata": {},
   "source": [
    "**if you are not familiar with matplotlib pyplot go over this tutorial https://matplotlib.org/stable/tutorials/introductory/pyplot.html**"
   ]
  },
  {
   "cell_type": "markdown",
   "metadata": {},
   "source": [
    "**if you are not familiar with seaborn go over this tutorial https://seaborn.pydata.org/tutorial/introduction.html**"
   ]
  },
  {
   "cell_type": "markdown",
   "metadata": {},
   "source": [
    "## Figure 2"
   ]
  },
  {
   "cell_type": "markdown",
   "metadata": {},
   "source": [
    "Re-create Figure2 of the paper based on data['diet']\n",
    "- Play with the hue_order, palette and alpha seaborn parameters\n",
    "- Move the legend to each of the corners\n",
    "- Set the axes limit of both sub-plots to be the same\n",
    "- Read about the plt.text transform parameter"
   ]
  },
  {
   "cell_type": "code",
   "execution_count": null,
   "metadata": {},
   "outputs": [],
   "source": []
  },
  {
   "cell_type": "markdown",
   "metadata": {},
   "source": [
    "Here is an example of how to do it"
   ]
  },
  {
   "cell_type": "code",
   "execution_count": null,
   "metadata": {},
   "outputs": [],
   "source": [
    "df = data['diet'].reset_index()"
   ]
  },
  {
   "cell_type": "code",
   "execution_count": null,
   "metadata": {
    "scrolled": false
   },
   "outputs": [],
   "source": [
    "for time_point in time_point_order:\n",
    "    \n",
    "    plt.figure()\n",
    "    ax = sns.scatterplot(x='% Carbohydrates', y='% Lipids', hue='Diet', hue_order=diet_order, data=df[df['Time Point'] == time_point], palette=colors, alpha=0.5, s=100)\n",
    "\n",
    "    plt.legend(title=False, loc='upper right', frameon=True)\n",
    "\n",
    "    plt.title('Intervention' if time_point == 'Post-intervention' else time_point)\n",
    "    plt.xlabel('% Carbohydrates in diet')\n",
    "    plt.ylabel('% Lipids in diet')\n",
    "    plt.xlim([9, 55])\n",
    "    plt.ylim([15, 75])\n",
    "    \n",
    "    plt.text(x=0, y=1.03, s='a' if time_point == 'Pre-intervention' else 'b', transform=ax.transAxes, size=20, weight='bold')   \n",
    "\n",
    "    plt.savefig(f'Figure 2{\"a\" if time_point == \"Pre-intervention\" else \"b\"}')"
   ]
  },
  {
   "cell_type": "markdown",
   "metadata": {},
   "source": [
    "# Statistical tests"
   ]
  },
  {
   "cell_type": "markdown",
   "metadata": {},
   "source": [
    "**Refresh your memory on statistical tests https://doi.org/10.4103/0974-7788.72494**"
   ]
  },
  {
   "cell_type": "markdown",
   "metadata": {},
   "source": [
    "Which test would you chose for between diet group comparison? why?"
   ]
  },
  {
   "cell_type": "code",
   "execution_count": null,
   "metadata": {},
   "outputs": [],
   "source": []
  },
  {
   "cell_type": "markdown",
   "metadata": {},
   "source": [
    "Was the basline age, gender and BMI the same between the groups?"
   ]
  },
  {
   "cell_type": "code",
   "execution_count": null,
   "metadata": {},
   "outputs": [],
   "source": []
  },
  {
   "cell_type": "markdown",
   "metadata": {},
   "source": [
    "Here is an example of how to do it"
   ]
  },
  {
   "cell_type": "code",
   "execution_count": null,
   "metadata": {
    "scrolled": true
   },
   "outputs": [],
   "source": [
    "for col in ['Age', 'Gender', 'BMI']:\n",
    "    col\n",
    "    local_df = basic.xs('Pre-intervention', level='Time Point')[col].dropna()\n",
    "    mannwhitneyu(local_df.loc[diet_order[0]], local_df.loc[diet_order[1]])"
   ]
  },
  {
   "cell_type": "markdown",
   "metadata": {},
   "source": [
    "Which test would you chose for within diet group comparison? why?"
   ]
  },
  {
   "cell_type": "code",
   "execution_count": null,
   "metadata": {},
   "outputs": [],
   "source": []
  },
  {
   "cell_type": "markdown",
   "metadata": {},
   "source": [
    "Within each of the diet groups check if there was a signfiicant difference in the three glycemic measurments"
   ]
  },
  {
   "cell_type": "code",
   "execution_count": null,
   "metadata": {},
   "outputs": [],
   "source": []
  },
  {
   "cell_type": "markdown",
   "metadata": {},
   "source": [
    "Here is an example of how to do it"
   ]
  },
  {
   "cell_type": "code",
   "execution_count": null,
   "metadata": {},
   "outputs": [],
   "source": [
    "for diet in diet_order:\n",
    "    diet\n",
    "    \n",
    "    for col in ['Time_above_140', 'bt__hba1c', 'OGTT']:\n",
    "        col\n",
    "        \n",
    "        local_df = basic.loc[diet, col]\n",
    "        nan_participants = local_df[local_df.isna()].index.get_level_values('Participant ID')\n",
    "        local_df = local_df[~local_df.index.get_level_values('Participant ID').isin(nan_participants)]\n",
    "        \n",
    "        mannwhitneyu(local_df.xs(time_point_order[0], level='Time Point'), \n",
    "                     local_df.xs(time_point_order[1], level='Time Point'))\n",
    "        \n",
    "    print()"
   ]
  },
  {
   "cell_type": "markdown",
   "metadata": {},
   "source": [
    "## Figure 3"
   ]
  },
  {
   "cell_type": "markdown",
   "metadata": {},
   "source": [
    "**Read the results section titled \"The PPT diet had bigger effect on the microbiome and metabolites than the MED diet\"\\\n",
    "(Microbiome, Metabolites and Cytokines)**\\\n",
    "All the statistical tests results described in this section are in Supplementary file 2"
   ]
  },
  {
   "cell_type": "markdown",
   "metadata": {},
   "source": [
    "**Read the methods sections titled \"Feature analysis\" and \"Statistics\"**"
   ]
  },
  {
   "cell_type": "markdown",
   "metadata": {},
   "source": [
    "This is the gut microbial species relative abundance data"
   ]
  },
  {
   "cell_type": "code",
   "execution_count": null,
   "metadata": {
    "scrolled": false
   },
   "outputs": [],
   "source": [
    "data['gut species']"
   ]
  },
  {
   "cell_type": "markdown",
   "metadata": {},
   "source": [
    "The column names represent the species by their phylgentics"
   ]
  },
  {
   "cell_type": "code",
   "execution_count": null,
   "metadata": {},
   "outputs": [],
   "source": [
    "data['gut species'].columns"
   ]
  },
  {
   "cell_type": "markdown",
   "metadata": {},
   "source": [
    "First at a taxonomical level"
   ]
  },
  {
   "cell_type": "code",
   "execution_count": null,
   "metadata": {},
   "outputs": [],
   "source": [
    "data['gut species'].columns.str.split('|').str[:7]"
   ]
  },
  {
   "cell_type": "markdown",
   "metadata": {},
   "source": [
    "Looking at one species makes it more clear"
   ]
  },
  {
   "cell_type": "code",
   "execution_count": null,
   "metadata": {},
   "outputs": [],
   "source": [
    "data['gut species'].columns.str.split('|').str[:7][0]"
   ]
  },
  {
   "cell_type": "markdown",
   "metadata": {},
   "source": [
    "Second from an ID prespective"
   ]
  },
  {
   "cell_type": "code",
   "execution_count": null,
   "metadata": {},
   "outputs": [],
   "source": [
    "data['gut species'].columns.str.split('|').str[7:]"
   ]
  },
  {
   "cell_type": "code",
   "execution_count": null,
   "metadata": {},
   "outputs": [],
   "source": [
    "data['gut species'].columns.str.split('|').str[7:][0]"
   ]
  },
  {
   "cell_type": "markdown",
   "metadata": {},
   "source": [
    "These are the significantly changed gut species in the PPT arm"
   ]
  },
  {
   "cell_type": "code",
   "execution_count": null,
   "metadata": {
    "scrolled": false
   },
   "outputs": [],
   "source": [
    "data['gut species PPT diet'][data['gut species PPT diet']['p_bonferroni'] < alpha]"
   ]
  },
  {
   "cell_type": "markdown",
   "metadata": {},
   "source": [
    "These are the significantly changed gut species in the MED arm"
   ]
  },
  {
   "cell_type": "code",
   "execution_count": null,
   "metadata": {},
   "outputs": [],
   "source": [
    "data['gut species MED diet'][data['gut species MED diet']['p_bonferroni'] < alpha]"
   ]
  },
  {
   "cell_type": "markdown",
   "metadata": {},
   "source": [
    "Visualize the significant results\n",
    "- it does not have to be in the same type of figure as in the paper\n",
    "- but it should include the same aspects of information\n",
    "\n",
    "For example:\n",
    "- the species ID (e.g. sSGB__714), name (e.g. Methanobrevibacter smithii) and family (e.g. Methanobacteriaceae)\n",
    "- the direction of change in each group"
   ]
  },
  {
   "cell_type": "code",
   "execution_count": null,
   "metadata": {},
   "outputs": [],
   "source": []
  },
  {
   "cell_type": "markdown",
   "metadata": {},
   "source": [
    "Here is an example of how to do it"
   ]
  },
  {
   "cell_type": "code",
   "execution_count": null,
   "metadata": {},
   "outputs": [],
   "source": [
    "def get_data(data_type):\n",
    "    \n",
    "    for i, diet in enumerate(diet_order):\n",
    "        key = f'{data_type} {diet}'\n",
    "        col = 'p_FDR' if data_type == 'cytokines' else 'p_bonferroni'\n",
    "        new = get_delta(data[data_type].loc[diet, data[key].index[data[key][col] < alpha]]).mean().to_frame(diet)\n",
    "        df = new.copy() if i == 0 else df.join(new, how='outer').fillna(0)\n",
    "        \n",
    "    return df"
   ]
  },
  {
   "cell_type": "code",
   "execution_count": null,
   "metadata": {},
   "outputs": [],
   "source": [
    "metabolite2super_pathway = pd.read_excel(s1, sheet_name='metabolites')\n",
    "metabolite2super_pathway = metabolite2super_pathway.set_index('PATHWAY_SORTORDER').loc[['Diet', 'SUPER_PATHWAY']].T.set_index('Diet').fillna('unknown').iloc[2:].replace('Partially Characterized Molecules', 'Partially Characterized').to_dict()['SUPER_PATHWAY']"
   ]
  },
  {
   "cell_type": "code",
   "execution_count": null,
   "metadata": {
    "scrolled": false
   },
   "outputs": [],
   "source": [
    "for data_type in data_types:\n",
    "    \n",
    "    df = get_data(data_type)\n",
    "        \n",
    "    if df.shape[0] < 10:\n",
    "        continue\n",
    "              \n",
    "    radius = np.log10(df.shape[0])\n",
    "    step = radius/8\n",
    "    \n",
    "    cmap = plt.get_cmap('bwr')\n",
    "    norm = mpl.colors.Normalize(vmin=-df.abs().max().max() if data_type != 'diet' else -10, vmax=df.abs().max().max() if data_type != 'diet' else 10)\n",
    "    \n",
    "    if data_type == 'diet':\n",
    "        df['Level'] = 'Food category'\n",
    "        df.loc[df.index.str.contains('%'), 'Level'] = 'Macro-nutrient'\n",
    "        df.loc[df.index.str.contains(']'), 'Level'] = 'Micro-nutrient'\n",
    "        # sort\n",
    "        df = df.loc[[idx for idx in ['% Carbohydrates', '% Lipids', '% Proteins', '% Daily caloric target', '% Fibers', \n",
    "                                     '% Mono un-saturated fatty acids', '% Poly un-saturated fatty acids', '% Saturated fatty acids']\n",
    "                         if idx in df.index] + \n",
    "                     sorted([idx for idx in df.index if '[' in idx]) + \n",
    "                     sorted([idx for idx in df.index if '%' not in idx and '[' not in idx])]\n",
    "    elif 'species' in data_type:\n",
    "        df['Family'] = df.index.str.split('|').str[-6].str.replace('f__', '').str.replace('_unclassified', '').str.replace('unknown', 'Unclassified')\n",
    "        df.index = df.index.str.split('|').str[-4].str.replace('s__', '').str.replace('_', ' ').str.replace('unknown', 'Unclassified') + ' (' + df.index.str.split('|').str[-1].str.replace('sSGB__', 'SGB_') + ')'\n",
    "        df.index = ['Unclassified ' + index.split(' ')[-1] if 'sp' in index or 'CAG' in index else index for index in df.index]\n",
    "        df = df.sort_values('Family')\n",
    "    elif data_type == 'metabolites':\n",
    "        df['Super Pathway'] = df.index.map(metabolite2super_pathway).str.replace('unknown', 'Uncharacterized')\n",
    "        df = df.sort_values('Super Pathway')\n",
    "    elif 'pathways' in data_type:\n",
    "        super_class = {  # curated manually from MetCyc\n",
    "            'ARGSYNBSUB-PWY: L-arginine biosynthesis II (acetyl cycle)' : 'Amino Acid Biosynthesis',\n",
    "            'ARGSYN-PWY: L-arginine biosynthesis I (via L-ornithine)': 'Amino Acid Biosynthesis',\n",
    "            'GLUTORN-PWY: L-ornithine biosynthesis I': 'Amino Acid Biosynthesis',\n",
    "            'PWY-6292: superpathway of L-cysteine biosynthesis (mammalian)': 'Amino Acid Biosynthesis',\n",
    "            'PWY-6507: 4-deoxy-L-threo-hex-4-enopyranuronate degradation': 'Sugar Degradation',\n",
    "            'GALACTUROCAT-PWY: D-galacturonate degradation I': 'Sugar Degradation',\n",
    "            'PWY-7356: thiamine diphosphate salvage IV (yeast)': 'Cofactor&Vitamin Biosynthesis',#'Cofactor, Carrier, and Vitamin Biosynthesis',\n",
    "            'GLUCUROCAT-PWY: superpathway of &beta;-D-glucuronosides degradation': 'Sugar Degradation',\n",
    "            'PWY-7242: D-fructuronate degradation': 'Sugar Degradation',\n",
    "            'PWY-7456: &beta;-(1,4)-mannan degradation': 'Polysaccharide Degradation',\n",
    "            'PWY66-399: gluconeogenesis III': 'Sugar Biosynthesis',\n",
    "            'PWY-7383: anaerobic energy metabolism (invertebrates, cytosol)': 'zOther',#'Fermentation',\n",
    "            'PWY490-3: nitrate reduction VI (assimilatory)': 'zOther',#'Inorganic Nutrient Metabolism',\n",
    "            'PWY-6305: superpathway of putrescine biosynthesis': 'zOther',#'Amide, Amidine, Amine, and Polyamine Biosynthesis',\n",
    "            'P124-PWY: Bifidobacterium shunt': 'Sugar Degradation',\n",
    "            'PWY-5941: glycogen degradation II': 'Polysaccharide Degradation',\n",
    "            'PWY-7238: sucrose biosynthesis II': 'Sugar Biosynthesis',\n",
    "            'PWY0-1296: purine ribonucleosides degradation': 'zOther',#'Nucleoside and Nucleotide Degradation',\n",
    "            'PWY-6147: 6-hydroxymethyl-dihydropterin diphosphate biosynthesis I': 'zOther',#'Other Biosynthesis',\n",
    "            'PWY-6549: L-glutamine biosynthesis III': 'zOther',#'Transport',\n",
    "            'PWY-6703: preQ0 biosynthesis': 'zOther',#'Secondary Metabolite Biosynthesis',\n",
    "            'PWY-6823: molybdopterin biosynthesis': 'Cofactor&Vitamin Biosynthesis',#'Cofactor, Carrier, and Vitamin Biosynthesis',\n",
    "            'PWY-241: C4 photosynthetic carbon assimilation cycle, NADP-ME type': 'Carbon Fixation',#'Generation of Precursor Metabolites and Energy',\n",
    "            'PWY-7115: C4 photosynthetic carbon assimilation cycle, NAD-ME type': 'Carbon Fixation',#'Generation of Precursor Metabolites and Energy',\n",
    "            'PWY-7117: C4 photosynthetic carbon assimilation cycle, PEPCK type': 'Carbon Fixation'}#'Generation of Precursor Metabolites and Energy'}\n",
    "        df['Super Class'] = df.index.map(super_class)\n",
    "        df = df.sort_values('Super Class').replace('zOther', 'Other')\n",
    "        \n",
    "    df.loc[' '] = ''\n",
    "    df.loc['Diet'] = df.columns\n",
    "    df.loc['   '] = ''\n",
    "\n",
    "    fig, ax = plt.subplots()\n",
    "\n",
    "    for i, diet in enumerate(df.columns):\n",
    "        if diet in diet_order:\n",
    "            c = cmap(norm(df[diet_order[i]][:-3].astype(float))).tolist() + ['white', colors[diet], 'white']\n",
    "        else:\n",
    "            cmap = mpl.cm.Pastel1\n",
    "            norm = mpl.colors.Normalize(vmin=0, vmax=8)\n",
    "            c = {cat: cmap(norm(i)) for i, cat in enumerate(df[diet][:-3].unique())}\n",
    "            c = [c[v] for v in df[diet][:-3]] + ['white', 'white', 'white']\n",
    "        \n",
    "        pie, labels = ax.pie([1 for i in range(df.shape[0])], colors=c,\n",
    "                             radius=radius-i*step, startangle=0,\n",
    "                             labels=df[diet_order[i]].index if i == 0 else None, rotatelabels=True, labeldistance=1,\n",
    "                             wedgeprops={'width':step, 'edgecolor':'w'})\n",
    "\n",
    "        _ = plt.setp(pie, width=step, edgecolor='white')\n",
    "        \n",
    "    if diet not in diet_order:\n",
    "        index = df[diet][:-3].reset_index().index[~df[diet][:-3].duplicated()]\n",
    "        legend = ax.legend([pie[i] for i in index], [df[diet][i] for i in index], \n",
    "                           title=diet, loc='center', bbox_to_anchor=(0., 0, 1, 1.), frameon=False)\n",
    "    \n",
    "    extra = {'diet':        {'x': -0.40, 'y': 1.55, 'l': 'a', 'title': '     Diet'},\n",
    "             'gut species': {'x': -0.78, 'y': 1.45, 'l': 'b', 'title': '     Gut species'},\n",
    "             'gut pathways': {'x': -1.20, 'y': 2.20, 'l': 'c', 'title': '     Gut pathways'},\n",
    "             'metabolites': {'x': -1.20, 'y': 2.20, 'l': 'd', 'title': '     Metabolites'}}\n",
    "    \n",
    "    _ = plt.text(x=extra[data_type]['x'], y=extra[data_type]['y'], s=extra[data_type]['l'], transform=ax.transAxes, size=20, weight='bold')   \n",
    "    _ = plt.text(x=extra[data_type]['x'], y=extra[data_type]['y'], s=extra[data_type]['title'], transform=ax.transAxes)   \n",
    "    \n",
    "    plt.savefig(f'Figure 3{extra[data_type][\"l\"]}', bbox_inches='tight')"
   ]
  },
  {
   "cell_type": "markdown",
   "metadata": {},
   "source": [
    "# Mediation analysis"
   ]
  },
  {
   "cell_type": "markdown",
   "metadata": {},
   "source": [
    "**If you are not familiar with the concept of mediation analysis read this https://data.library.virginia.edu/introduction-to-mediation-analysis/**"
   ]
  },
  {
   "cell_type": "markdown",
   "metadata": {},
   "source": [
    "**Read the results section titled \"The microbiome mediates the diet's effect\"**"
   ]
  },
  {
   "cell_type": "markdown",
   "metadata": {},
   "source": [
    "**Read the methods sections titled \"Mediation analysis\"**"
   ]
  },
  {
   "cell_type": "markdown",
   "metadata": {},
   "source": [
    "Implement mediation analysis for this triad in the PPT group:\\\n",
    "X - % Proteins in diet\\\n",
    "M - Gut Faecalibacterium prausnitzii (SGB_15342)\\\n",
    "Y - Time above 140"
   ]
  },
  {
   "cell_type": "markdown",
   "metadata": {},
   "source": [
    "Use the change in X, M and Y"
   ]
  },
  {
   "cell_type": "markdown",
   "metadata": {},
   "source": [
    "Regress Y on X, is the effect of X significant?"
   ]
  },
  {
   "cell_type": "code",
   "execution_count": null,
   "metadata": {},
   "outputs": [],
   "source": []
  },
  {
   "cell_type": "markdown",
   "metadata": {},
   "source": [
    "Regress M on X, is the effect of X significant?"
   ]
  },
  {
   "cell_type": "code",
   "execution_count": null,
   "metadata": {},
   "outputs": [],
   "source": []
  },
  {
   "cell_type": "markdown",
   "metadata": {},
   "source": [
    "Regress Y on X and M, is the effect of M significant?"
   ]
  },
  {
   "cell_type": "code",
   "execution_count": null,
   "metadata": {},
   "outputs": [],
   "source": []
  },
  {
   "cell_type": "markdown",
   "metadata": {},
   "source": [
    "Use the pingouin.mediation_analysis package to do the same process, did you get the same results?\\\n",
    "https://pingouin-stats.org/build/html/generated/pingouin.mediation_analysis.html#pingouin.mediation_analysis"
   ]
  },
  {
   "cell_type": "code",
   "execution_count": null,
   "metadata": {},
   "outputs": [],
   "source": []
  },
  {
   "cell_type": "markdown",
   "metadata": {},
   "source": [
    "Adjust for baseline age, sex and BMI"
   ]
  },
  {
   "cell_type": "code",
   "execution_count": null,
   "metadata": {},
   "outputs": [],
   "source": []
  },
  {
   "cell_type": "markdown",
   "metadata": {},
   "source": [
    "All the mediation analyses results described in the paper are in Supplementary file 3\\\n",
    "Did you get the same results as in the paper?"
   ]
  },
  {
   "cell_type": "code",
   "execution_count": null,
   "metadata": {},
   "outputs": [],
   "source": [
    "data['diet-species-glucose PPT diet'].xs('% Proteins', level='x').xs('Faecalibacterium prausnitzii (SGB_15342)', level='m').xs('Time_above_140', level='y')"
   ]
  },
  {
   "cell_type": "code",
   "execution_count": null,
   "metadata": {},
   "outputs": [],
   "source": []
  },
  {
   "cell_type": "markdown",
   "metadata": {},
   "source": [
    "## Figure 4"
   ]
  },
  {
   "cell_type": "markdown",
   "metadata": {},
   "source": [
    "Visualize the significant results\n",
    "- it does not have to be in the same type of figure as in the paper\n",
    "- but it should include the same aspects of information"
   ]
  },
  {
   "cell_type": "code",
   "execution_count": null,
   "metadata": {},
   "outputs": [],
   "source": []
  },
  {
   "cell_type": "markdown",
   "metadata": {},
   "source": [
    "Here is an example of how to do it"
   ]
  },
  {
   "cell_type": "code",
   "execution_count": null,
   "metadata": {
    "scrolled": false
   },
   "outputs": [],
   "source": [
    "letters = 'abcd'\n",
    "l = 0\n",
    "\n",
    "for med in mediation_order[:2]:\n",
    "\n",
    "    suffix = env_order[::-1] if 'strains' in med else diet_order\n",
    "    for suf in suffix:\n",
    "        \n",
    "        df = data[f'{med} {suf}'].copy()\n",
    "        df = df.groupby(['x', 'm', 'y']).filter(lambda g: (g.loc[['M ~ X', 'Indirect'], 'p'] < alpha).all())\n",
    "        if df.empty:\n",
    "            continue\n",
    "        df = df.loc['Indirect'].reset_index(['x', 'm', 'y'])\n",
    "        df.shape\n",
    "\n",
    "        label2int = {label: i for i, label in enumerate(list(df['x'].unique()) + list(df['m'].unique()) + list(df['y'].unique()))}\n",
    "\n",
    "        link = dict(source=pd.concat([df['x'], df['m']]).replace(label2int).values, \n",
    "                    \n",
    "                    target=pd.concat([df['m'], df['y']]).replace(label2int).values,\n",
    "\n",
    "                    value=[1]*df.shape[0]*2,\n",
    "\n",
    "                    color=[f'rgba{mpl.cm.tab10(label2int[label]%10)}' for label in df['x']] + \\\n",
    "                          [f'rgba{mpl.cm.tab10(label2int[label]%10)}' for label in df['x']])\n",
    "\n",
    "        node = dict(pad=35, thickness=20, \n",
    "                    label=list(label2int.keys()), \n",
    "                    color=[f'rgba{mpl.cm.tab10(label2int[label]%10)}' for label in df['x'].unique()]+['darkgrey']*(len(df['m'].unique())+len(df['y'].unique())))\n",
    "               \n",
    "        fig = go.Figure(go.Sankey(link=link, node=node))\n",
    "        med_nice = med.replace('diet-', ('Diet - '+suf+' ') if 'strains' in med else (suf+' - Microbial ')).replace('-glucose', ' - Glycemic measurements').replace('-serum', ' - Metabolites and Cytokines')\n",
    "        fig.update_layout(title=dict(text=f'{letters[l]}   {med_nice}', font=dict(color='Black')))\n",
    "        figure = '4' if 'species' in med else ('S2' if 'pathways' in med else 'S3')\n",
    "        try:\n",
    "            fig.write_image(f'Figure {figure}{letters[l]}.png', width=1500)\n",
    "        except:\n",
    "            f'FAILED SAVING Figure {figure}{letters[l]}.png'\n",
    "            \n",
    "        l = 0 if (l >= 2) & (suf != suffix[0]) else l + 1"
   ]
  },
  {
   "cell_type": "markdown",
   "metadata": {},
   "source": [
    "# Model evalution"
   ]
  },
  {
   "cell_type": "markdown",
   "metadata": {},
   "source": [
    "**Read the results section titled \"The change in microbiome composition is associated with the change in metabolites\"**"
   ]
  },
  {
   "cell_type": "markdown",
   "metadata": {},
   "source": [
    "**Read the methods sections titled \"Model analysis\"**"
   ]
  },
  {
   "cell_type": "markdown",
   "metadata": {},
   "source": [
    "**Read about the distingtion between R2 and r^2 https://towardsdatascience.com/r%C2%B2-or-r%C2%B2-when-to-use-what-4968eee68ed3**"
   ]
  },
  {
   "cell_type": "markdown",
   "metadata": {},
   "source": [
    "The model used was created as part of this paper: https://doi.org/10.1038/s41586-020-2896-2"
   ]
  },
  {
   "cell_type": "markdown",
   "metadata": {},
   "source": [
    "The metabolites prediction by the microbiome described in this section are in Supplementary file 4\\\n",
    "Notice that the first row is the R2"
   ]
  },
  {
   "cell_type": "code",
   "execution_count": null,
   "metadata": {},
   "outputs": [],
   "source": [
    "data['metabolites prediction']"
   ]
  },
  {
   "cell_type": "markdown",
   "metadata": {},
   "source": [
    "Split the data to the well predicted metabolites (R2<0.05 in the training set) and the poorly predicted metabolites (R2>0.05)"
   ]
  },
  {
   "cell_type": "code",
   "execution_count": null,
   "metadata": {},
   "outputs": [],
   "source": []
  },
  {
   "cell_type": "markdown",
   "metadata": {},
   "source": [
    "Compute the mean predicted change in each metabolite"
   ]
  },
  {
   "cell_type": "code",
   "execution_count": null,
   "metadata": {},
   "outputs": [],
   "source": []
  },
  {
   "cell_type": "markdown",
   "metadata": {},
   "source": [
    "Compute the mean actual change in each metabolite"
   ]
  },
  {
   "cell_type": "code",
   "execution_count": null,
   "metadata": {},
   "outputs": [],
   "source": [
    "data['metabolites']"
   ]
  },
  {
   "cell_type": "code",
   "execution_count": null,
   "metadata": {},
   "outputs": [],
   "source": []
  },
  {
   "cell_type": "markdown",
   "metadata": {},
   "source": [
    "Separetly for the well and for the poorly predicted metabolites, compute the expalined variance"
   ]
  },
  {
   "cell_type": "code",
   "execution_count": null,
   "metadata": {},
   "outputs": [],
   "source": []
  },
  {
   "cell_type": "markdown",
   "metadata": {},
   "source": [
    "## Figure 5"
   ]
  },
  {
   "cell_type": "markdown",
   "metadata": {},
   "source": [
    "Plot the results"
   ]
  },
  {
   "cell_type": "code",
   "execution_count": null,
   "metadata": {},
   "outputs": [],
   "source": []
  },
  {
   "cell_type": "markdown",
   "metadata": {},
   "source": [
    "Here is an example of how to do it"
   ]
  },
  {
   "cell_type": "code",
   "execution_count": null,
   "metadata": {},
   "outputs": [],
   "source": [
    "def get_data(r):\n",
    "\n",
    "    preds = get_delta(data['metabolites prediction'].iloc[1:].astype(float))\n",
    "    actuals = get_delta(data['metabolites']).loc[preds.index, preds.columns]\n",
    "\n",
    "    df = actuals.groupby('Diet').mean().melt(ignore_index=False).set_index('variable', append=True).rename(columns={'value': 'observed change'}).join(\n",
    "         preds.groupby('Diet').mean().melt(ignore_index=False).set_index('variable', append=True).rename(columns={'value': 'predicted change'}))\n",
    "\n",
    "    df = df.join(data['metabolites prediction'].iloc[0].T.to_frame('R2').astype(float).dropna(), on='variable')\n",
    "    df = df.loc[df['R2'] < -r] if r < 0 else df.loc[df['R2'] > r]\n",
    "    df = df.reset_index()\n",
    "\n",
    "    return df"
   ]
  },
  {
   "cell_type": "code",
   "execution_count": null,
   "metadata": {
    "scrolled": false
   },
   "outputs": [],
   "source": [
    "for r2 in [-0.05, 0.05]:\n",
    "    \n",
    "    df = get_data(r2)\n",
    "    \n",
    "    plt.figure()\n",
    "    size = 'R2' if r2 > 0 else None\n",
    "    ax = sns.scatterplot(x='observed change', y='predicted change', hue='Diet', hue_order=diet_order, data=df, s=100, size=size, sizes=(50 ,300), palette=colors, alpha=0.5)\n",
    "\n",
    "    pearsonr(df['observed change'], df['predicted change'])\n",
    "\n",
    "    l = plt.legend(title=False, loc='lower right', frameon=True)\n",
    "    for handle in l.legendHandles:\n",
    "        diet = handle.get_label()\n",
    "        if diet in diet_order:\n",
    "            r, p = pearsonr(df.loc[df['Diet'] == diet, 'observed change'], df.loc[df['Diet'] == diet, 'predicted change'])\n",
    "            r, p\n",
    "            handle.set_label(f'{diet}\\nr={r:.2f}, ' + (f'p<1e{math.floor(math.log10(p))+1}' if p < 0.01 else f'p={p:.2f}'))\n",
    "    handles = l.legendHandles[1:] if len(l.legendHandles) > 5 else l.legendHandles\n",
    "    plt.legend(handles=handles, title=False, loc='upper left', frameon=True)\n",
    "        \n",
    "    plt.xlabel('Mean observed change')\n",
    "    plt.ylabel('Mean predicted change')\n",
    "\n",
    "    df_abs = df.copy()\n",
    "    df_abs[['observed change', 'predicted change']] = df_abs[['observed change', 'predicted change']].abs()\n",
    "    index = df_abs.sort_values('observed change').tail(3).index.union(df_abs.sort_values('predicted change').tail(3).index)\n",
    "    if r2 > 0:\n",
    "        index = index.union(df.sort_values('R2').tail(3).index)\n",
    "        index = list(index) + [117]\n",
    "    for i in index:\n",
    "        s, x, y = df.loc[i, ['variable', 'observed change', 'predicted change']]\n",
    "        if i == 856:\n",
    "            va = 'top'\n",
    "        elif i == 857:\n",
    "            va = 'bottom'\n",
    "        else:\n",
    "            va = 'center'\n",
    "        _ = plt.text(x=x, y=y, s=s, va=va)\n",
    "    \n",
    "    plt.text(x=0, y=1.03, s='a' if r2 > 0 else 'b', transform=ax.transAxes, size=20, weight='bold')   \n",
    "\n",
    "    plt.title(f'{\"Poorly\" if r2 < 0 else \"Well\"} predicted metabolites (R2{\"<\" if r2 < 0 else \">\"}{abs(r2)})')\n",
    "    plt.savefig(f'Figure 5{\"a\" if r2 > 0 else \"b\"}')"
   ]
  },
  {
   "cell_type": "markdown",
   "metadata": {},
   "source": [
    "# Sample size"
   ]
  },
  {
   "cell_type": "markdown",
   "metadata": {},
   "source": [
    "**Read the results section titled \"The oral microbiome is genetically more dynamic than the gut microbiome\"**"
   ]
  },
  {
   "cell_type": "markdown",
   "metadata": {},
   "source": [
    "**Read the methods sections titled \"Strain analysis\"**"
   ]
  },
  {
   "cell_type": "code",
   "execution_count": null,
   "metadata": {},
   "outputs": [],
   "source": [
    "data['gut strains']"
   ]
  },
  {
   "cell_type": "markdown",
   "metadata": {},
   "source": [
    "Aggregate the results to the species level - i.e. how many people had a species? and how many of those who had it had a \"strain replacement\"?"
   ]
  },
  {
   "cell_type": "code",
   "execution_count": null,
   "metadata": {},
   "outputs": [],
   "source": []
  },
  {
   "cell_type": "markdown",
   "metadata": {},
   "source": [
    "Which species had the most strain replacements?"
   ]
  },
  {
   "cell_type": "code",
   "execution_count": null,
   "metadata": {},
   "outputs": [],
   "source": []
  },
  {
   "cell_type": "markdown",
   "metadata": {},
   "source": [
    "Look only at species that exist in at least 50 people, does your answer change?"
   ]
  },
  {
   "cell_type": "code",
   "execution_count": null,
   "metadata": {},
   "outputs": [],
   "source": []
  },
  {
   "cell_type": "markdown",
   "metadata": {},
   "source": [
    "Here is an example of how to do it"
   ]
  },
  {
   "cell_type": "code",
   "execution_count": null,
   "metadata": {},
   "outputs": [],
   "source": [
    "local_df = data['gut strains'].copy()\n",
    "local_df = local_df.groupby('Species')['Strain replacement'].apply(lambda g: (g.shape[0], g.mean()*100)).to_frame()\n",
    "local_df['n'], local_df['%'] = local_df.iloc[:, 0].str"
   ]
  },
  {
   "cell_type": "code",
   "execution_count": null,
   "metadata": {},
   "outputs": [],
   "source": [
    "local_df.sort_values('%', ascending=False)"
   ]
  },
  {
   "cell_type": "code",
   "execution_count": null,
   "metadata": {
    "scrolled": true
   },
   "outputs": [],
   "source": [
    "local_df[local_df['n'] >= 50].sort_values('%', ascending=False)"
   ]
  },
  {
   "cell_type": "markdown",
   "metadata": {},
   "source": [
    "**Read about the law of small numbers https://psychology.iresearchnet.com/social-psychology/decision-making/law-of-small-numbers/#:~:text=The%20law%20of%20small%20numbers,at%20all%2C%20but%20a%20fallacy.**"
   ]
  },
  {
   "cell_type": "markdown",
   "metadata": {},
   "source": [
    "## Figure 6"
   ]
  },
  {
   "cell_type": "markdown",
   "metadata": {},
   "source": [
    "**Read about the statannot.add_stat_annotation python package, it can save you a lot of time https://github.com/webermarcolivier/statannot/blob/master/example/example.ipynb**"
   ]
  },
  {
   "cell_type": "markdown",
   "metadata": {},
   "source": [
    "Re-create Figure6 d of the paper"
   ]
  },
  {
   "cell_type": "code",
   "execution_count": null,
   "metadata": {},
   "outputs": [],
   "source": []
  },
  {
   "cell_type": "markdown",
   "metadata": {},
   "source": [
    "Here is an example of how to do it"
   ]
  },
  {
   "cell_type": "code",
   "execution_count": null,
   "metadata": {},
   "outputs": [],
   "source": [
    "hue = 'env'\n",
    "hue_order = env_order"
   ]
  },
  {
   "cell_type": "code",
   "execution_count": null,
   "metadata": {},
   "outputs": [],
   "source": [
    "def get_data(b):\n",
    "    \n",
    "    df = pd.concat([data['gut strains'].assign(env='Gut'), data['oral strains'].assign(env='Oral')])\n",
    "    df['Strain replacement'] = df['Strain replacement'].map({True: 1, False: 0})\n",
    "    df = df.groupby([b, hue])['Strain replacement'].apply(lambda g: (g.shape[0], g.mean()*100)).to_frame()\n",
    "    df['n'], df['%'] = df.iloc[:, 0].str\n",
    "    df['n_bin'] = pd.cut(df['n'], bins=np.arange(0, df['n'].max(), 18 if b == 'Participant ID' else 30))\n",
    "    df = df.reset_index()\n",
    "    \n",
    "    return df"
   ]
  },
  {
   "cell_type": "code",
   "execution_count": null,
   "metadata": {
    "scrolled": false
   },
   "outputs": [],
   "source": [
    "for by in ['Participant ID', 'Species']:\n",
    "\n",
    "    df = get_data(by)\n",
    "\n",
    "    plt.figure()\n",
    "    ax = sns.histplot(df, x='%', hue=hue, hue_order=hue_order, palette=colors, kde=False, element='step', binwidth=10, alpha=0.3, common_norm=False, stat='percent')\n",
    "\n",
    "    l = ax.legend(labels=hue_order)\n",
    "    ax.legend(labels=hue_order, handles=l.legendHandles[::-1], loc='upper right', frameon=True)\n",
    "    \n",
    "    plt.xlabel(f'% Strain replacements per {by.replace(\"Participant ID\", \"participant\").lower()}')\n",
    "    plt.ylabel(f'% {\"Species\" if by == \"Participant ID\" else \"Participants\"}')\n",
    "    plt.xlim([0, 100])\n",
    "    plt.ylim([0, 100])\n",
    "\n",
    "    _, p = mannwhitneyu(x=df.loc[df[hue] == hue_order[0], '%'].tolist(),\n",
    "                        y=df.loc[df[hue] == hue_order[1], '%'].tolist(),\n",
    "                        use_continuity=True, alternative='two-sided', axis=0, method='auto')\n",
    "    plt.text(x=0.865, y=0.8, s='p'+r'$\\leq$'+f'{p:.0e}', transform=ax.transAxes)\n",
    "\n",
    "    plt.text(x=0, y=1.03, s='a' if by == 'Participant ID' else 'b', transform=ax.transAxes, size=20, weight='bold')\n",
    "\n",
    "    plt.savefig(f'Figure 6{\"a\" if by == \"Participant ID\" else \"b\"}')"
   ]
  },
  {
   "cell_type": "code",
   "execution_count": null,
   "metadata": {
    "scrolled": false
   },
   "outputs": [],
   "source": [
    "for by in ['Participant ID', 'Species']:\n",
    "    \n",
    "    df = get_data(by)\n",
    "    \n",
    "    plt.figure()\n",
    "    ax = sns.boxplot(x='n_bin', y='%', hue=hue, hue_order=hue_order, data=df, palette=colors, boxprops={'alpha': 0.7}, fliersize=0)\n",
    "    box_pairs = [((b, hue_order[0]), (b, hue_order[1])) for b in df['n_bin'].unique().dropna()]\n",
    "    ax, test_results = add_stat_annotation(ax, x='n_bin', y='%', hue=hue, data=df, box_pairs=box_pairs, test='Mann-Whitney', text_format='simple', comparisons_correction=None)\n",
    "    sns.stripplot(x='n_bin', y='%', hue=hue, hue_order=hue_order, data=df, palette=colors, dodge=True, legend=False, color='lightgrey', s=8, alpha=0.3, ax=ax)\n",
    "\n",
    "    corr = df.groupby(hue).apply(lambda g: pearsonr(g['n'], g['%']))\n",
    "    l = ax.legend(title=False, loc='upper right', frameon=True)\n",
    "    for handle in l.legendHandles:\n",
    "        h = handle.get_label()\n",
    "        r, p = corr.loc[h]\n",
    "        r, p\n",
    "        handle.set_label(f'{h}\\nr={r:.2f}, ' + (f'p<1e{math.floor(math.log10(p))+1}' if p < 0.01 else f'p={p:.2f}'))\n",
    "    plt.legend(handles=l.legendHandles, title=False, loc='upper right', frameon=True)\n",
    "\n",
    "    new_labels = [t.get_text().replace('(', '').replace(']', '').replace(', ', '-') for t in ax.get_xticklabels()]\n",
    "    ax.set_xticklabels(new_labels)\n",
    "    \n",
    "    plt.xlabel(f'Number of {\"species\" if by == \"Participant ID\" else \"participants\"} available for comparison\\n{\"Environments richness\" if by == \"Participant ID\" else \"Species prevalence\"}')\n",
    "    plt.ylabel(f'% Strain replacements per {by.replace(\"Participant ID\", \"participant\").lower()}')\n",
    "    \n",
    "    plt.text(x=0, y=1.03, s='c' if by == 'Participant ID' else 'd', transform=ax.transAxes, size=20, weight='bold')\n",
    "    \n",
    "    plt.savefig(f'Figure 6{\"c\" if by == \"Participant ID\" else \"d\"}')"
   ]
  },
  {
   "cell_type": "markdown",
   "metadata": {},
   "source": [
    "**Read the discussion section of the paper**"
   ]
  }
 ],
 "metadata": {
  "kernelspec": {
   "display_name": "Python 3",
   "language": "python",
   "name": "python3"
  },
  "language_info": {
   "codemirror_mode": {
    "name": "ipython",
    "version": 3
   },
   "file_extension": ".py",
   "mimetype": "text/x-python",
   "name": "python",
   "nbconvert_exporter": "python",
   "pygments_lexer": "ipython3",
   "version": "3.7.4"
  },
  "toc": {
   "nav_menu": {},
   "number_sections": true,
   "sideBar": true,
   "skip_h1_title": false,
   "toc_cell": false,
   "toc_position": {
    "height": "748.949px",
    "left": "0px",
    "right": "1533.47px",
    "top": "111.051px",
    "width": "211.989px"
   },
   "toc_section_display": "block",
   "toc_window_display": true
  }
 },
 "nbformat": 4,
 "nbformat_minor": 4
}
