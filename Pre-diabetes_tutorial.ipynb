{
 "cells": [
  {
   "cell_type": "markdown",
   "metadata": {},
   "source": [
    "**If you are not familiar with jupyter notebook read this intoduction https://realpython.com/jupyter-notebook-introduction/**"
   ]
  },
  {
   "cell_type": "code",
   "execution_count": null,
   "metadata": {},
   "outputs": [],
   "source": [
    "###look for a better one"
   ]
  },
  {
   "cell_type": "markdown",
   "metadata": {},
   "source": [
    "**Read the introduction section of the paper**"
   ]
  },
  {
   "cell_type": "markdown",
   "metadata": {},
   "source": [
    "# Settings"
   ]
  },
  {
   "cell_type": "markdown",
   "metadata": {},
   "source": [
    "Importing python packages"
   ]
  },
  {
   "cell_type": "code",
   "execution_count": null,
   "metadata": {},
   "outputs": [],
   "source": [
    "import math\n",
    "import numpy as np\n",
    "import pandas as pd\n",
    "import seaborn as sns\n",
    "import matplotlib as mpl\n",
    "import matplotlib.pyplot as plt\n",
    "from matplotlib import rcParams\n",
    "import plotly.graph_objects as go\n",
    "from statannot import add_stat_annotation\n",
    "from scipy.stats import pearsonr, mannwhitneyu, wilcoxon"
   ]
  },
  {
   "cell_type": "code",
   "execution_count": null,
   "metadata": {},
   "outputs": [],
   "source": [
    "# allows the output of the code to be displayed within the jupyter cell\n",
    "from IPython.core.interactiveshell import InteractiveShell\n",
    "InteractiveShell.ast_node_interactivity = 'all'"
   ]
  },
  {
   "cell_type": "markdown",
   "metadata": {},
   "source": [
    "Figure parameters"
   ]
  },
  {
   "cell_type": "code",
   "execution_count": null,
   "metadata": {},
   "outputs": [],
   "source": [
    "rcParams['font.size'] = 12\n",
    "rcParams['figure.figsize'] = (9, 6)\n",
    "rcParams['savefig.dpi'] = 300\n",
    "rcParams['savefig.format'] = 'png'"
   ]
  },
  {
   "cell_type": "markdown",
   "metadata": {},
   "source": [
    "Study parameters"
   ]
  },
  {
   "cell_type": "code",
   "execution_count": null,
   "metadata": {},
   "outputs": [],
   "source": [
    "colors = {\n",
    "    'MED diet': 'cornflowerblue', \n",
    "    'PPT diet': 'orange',\n",
    "    'Gut': 'lightpink',\n",
    "    'Oral': 'mediumseagreen'}"
   ]
  },
  {
   "cell_type": "code",
   "execution_count": null,
   "metadata": {},
   "outputs": [],
   "source": [
    "diet_order = ['PPT diet', 'MED diet']\n",
    "time_point_order = ['Pre-intervention', 'Post-intervention']\n",
    "env_order = ['Oral', 'Gut']\n",
    "mediation_order = ['diet-species-glucose', 'diet-species-serum', \n",
    "                   'diet-pathways-glucose', 'diet-pathways-serum', \n",
    "                   'diet-strains-glucose', 'diet-strains-serum']"
   ]
  },
  {
   "cell_type": "code",
   "execution_count": null,
   "metadata": {},
   "outputs": [],
   "source": [
    "data_types = ['diet', 'gut species', 'gut pathways', 'oral species', 'oral pathways', 'metabolites', 'cytokines']\n",
    "# by the order they are introduced in the paper"
   ]
  },
  {
   "cell_type": "code",
   "execution_count": null,
   "metadata": {},
   "outputs": [],
   "source": [
    "alpha = 0.05  # of statistical tests"
   ]
  },
  {
   "cell_type": "code",
   "execution_count": null,
   "metadata": {},
   "outputs": [],
   "source": [
    "# function to calculate the difference in feature values between the post- and pre- intervention samples\n",
    "def get_delta(df):\n",
    "   \n",
    "    pre = df.xs('Pre-intervention', level='Time Point')\n",
    "    post = df.xs('Post-intervention', level='Time Point')\n",
    "\n",
    "    return post.subtract(pre)"
   ]
  },
  {
   "cell_type": "markdown",
   "metadata": {},
   "source": [
    "# Data"
   ]
  },
  {
   "cell_type": "markdown",
   "metadata": {},
   "source": [
    "**If you are not familiar with numpy go over this tutorial https://numpy.org/doc/stable/user/absolute_beginners.html**"
   ]
  },
  {
   "cell_type": "markdown",
   "metadata": {},
   "source": [
    "**If you are not familiar with pandas go over these tutorials https://pandas.pydata.org/docs/getting_started/intro_tutorials/index.html**"
   ]
  },
  {
   "cell_type": "markdown",
   "metadata": {},
   "source": [
    "**Read the results section titled \"Dietary interventions in pre-diabetes\"**"
   ]
  },
  {
   "cell_type": "markdown",
   "metadata": {},
   "source": [
    "Load the excel file called basic.xlsx using the pandas package"
   ]
  },
  {
   "cell_type": "code",
   "execution_count": null,
   "metadata": {},
   "outputs": [],
   "source": []
  },
  {
   "cell_type": "markdown",
   "metadata": {},
   "source": [
    "Set the Diet, Participant ID and Time Point columns as index"
   ]
  },
  {
   "cell_type": "code",
   "execution_count": null,
   "metadata": {},
   "outputs": [],
   "source": []
  },
  {
   "cell_type": "markdown",
   "metadata": {},
   "source": [
    "Here is an example of how to do it"
   ]
  },
  {
   "cell_type": "code",
   "execution_count": null,
   "metadata": {},
   "outputs": [],
   "source": [
    "file_name = 'basic.xlsx'\n",
    "df = pd.read_excel(file_name)\n",
    "df.head()"
   ]
  },
  {
   "cell_type": "code",
   "execution_count": null,
   "metadata": {},
   "outputs": [],
   "source": [
    "index = ['Diet', 'Participant ID', 'Time Point']\n",
    "df = df.set_index(index)\n",
    "df.head()"
   ]
  },
  {
   "cell_type": "markdown",
   "metadata": {},
   "source": [
    "Explore the data frame"
   ]
  },
  {
   "cell_type": "code",
   "execution_count": null,
   "metadata": {},
   "outputs": [],
   "source": [
    "df"
   ]
  },
  {
   "cell_type": "code",
   "execution_count": null,
   "metadata": {},
   "outputs": [],
   "source": []
  },
  {
   "cell_type": "markdown",
   "metadata": {},
   "source": [
    "Does it have the expected amount of participants mentioned in the paper? in each diet group? and in each time point?"
   ]
  },
  {
   "cell_type": "code",
   "execution_count": null,
   "metadata": {},
   "outputs": [],
   "source": []
  },
  {
   "cell_type": "markdown",
   "metadata": {},
   "source": [
    "Here is an example of how to do it"
   ]
  },
  {
   "cell_type": "code",
   "execution_count": null,
   "metadata": {},
   "outputs": [],
   "source": [
    "for i in index:\n",
    "    index_values = df.index.get_level_values(i)\n",
    "    index_values.value_counts()"
   ]
  },
  {
   "cell_type": "markdown",
   "metadata": {},
   "source": [
    "Does it have missing values? which feature and which person has the most missing values?"
   ]
  },
  {
   "cell_type": "code",
   "execution_count": null,
   "metadata": {},
   "outputs": [],
   "source": []
  },
  {
   "cell_type": "markdown",
   "metadata": {},
   "source": [
    "Here is an example of how to do it"
   ]
  },
  {
   "cell_type": "code",
   "execution_count": null,
   "metadata": {},
   "outputs": [],
   "source": [
    "df.isna()"
   ]
  },
  {
   "cell_type": "code",
   "execution_count": null,
   "metadata": {},
   "outputs": [],
   "source": [
    "df.isna().sum()"
   ]
  },
  {
   "cell_type": "code",
   "execution_count": null,
   "metadata": {},
   "outputs": [],
   "source": [
    "df.isna().sum().sort_values(ascending=False)"
   ]
  },
  {
   "cell_type": "code",
   "execution_count": null,
   "metadata": {},
   "outputs": [],
   "source": [
    "df.isna().sum(axis=1).sort_values(ascending=False)"
   ]
  },
  {
   "cell_type": "markdown",
   "metadata": {},
   "source": [
    "Calculate the in person change of blood test (bt) glygcated hemoglobin (hba1c)"
   ]
  },
  {
   "cell_type": "code",
   "execution_count": null,
   "metadata": {},
   "outputs": [],
   "source": []
  },
  {
   "cell_type": "markdown",
   "metadata": {},
   "source": [
    "Compare the means of the two diet groups"
   ]
  },
  {
   "cell_type": "code",
   "execution_count": null,
   "metadata": {},
   "outputs": [],
   "source": []
  },
  {
   "cell_type": "markdown",
   "metadata": {},
   "source": [
    "Here is an example of how to do it"
   ]
  },
  {
   "cell_type": "code",
   "execution_count": null,
   "metadata": {},
   "outputs": [],
   "source": [
    "get_delta(df)"
   ]
  },
  {
   "cell_type": "code",
   "execution_count": null,
   "metadata": {},
   "outputs": [],
   "source": [
    "get_delta(df)['bt__hba1c']"
   ]
  },
  {
   "cell_type": "code",
   "execution_count": null,
   "metadata": {},
   "outputs": [],
   "source": [
    "get_delta(df)['bt__hba1c'].mean()"
   ]
  },
  {
   "cell_type": "code",
   "execution_count": null,
   "metadata": {},
   "outputs": [],
   "source": [
    "get_delta(df)['bt__hba1c'].groupby('Diet').mean()"
   ]
  },
  {
   "cell_type": "markdown",
   "metadata": {},
   "source": [
    "## Table 1 - Participants"
   ]
  },
  {
   "cell_type": "markdown",
   "metadata": {},
   "source": [
    "Re-create Table 1 of the paper based on \"basic.xlsx\""
   ]
  },
  {
   "cell_type": "code",
   "execution_count": null,
   "metadata": {},
   "outputs": [],
   "source": []
  },
  {
   "cell_type": "markdown",
   "metadata": {},
   "source": [
    "Here is an example of how to do it"
   ]
  },
  {
   "cell_type": "code",
   "execution_count": null,
   "metadata": {},
   "outputs": [],
   "source": [
    "df.xs('Pre-intervention', level='Time Point')"
   ]
  },
  {
   "cell_type": "code",
   "execution_count": null,
   "metadata": {},
   "outputs": [],
   "source": [
    "df.xs('Pre-intervention', level='Time Point').groupby('Diet').mean()"
   ]
  },
  {
   "cell_type": "code",
   "execution_count": null,
   "metadata": {},
   "outputs": [],
   "source": [
    "df.xs('Pre-intervention', level='Time Point').groupby('Diet').mean().T"
   ]
  },
  {
   "cell_type": "code",
   "execution_count": null,
   "metadata": {},
   "outputs": [],
   "source": [
    "df.xs('Pre-intervention', level='Time Point').groupby('Diet').mean().T[diet_order]"
   ]
  },
  {
   "cell_type": "code",
   "execution_count": null,
   "metadata": {},
   "outputs": [],
   "source": [
    "df.xs('Pre-intervention', level='Time Point').groupby('Diet').std().T[diet_order]"
   ]
  },
  {
   "cell_type": "markdown",
   "metadata": {},
   "source": [
    "**Read the method section titled \"Data Processing\"**\\\n",
    "It referes to the data in Supplementary file 1"
   ]
  },
  {
   "cell_type": "markdown",
   "metadata": {},
   "source": [
    "The code below loads all the data from the supplementary files, it can take a few minutes"
   ]
  },
  {
   "cell_type": "code",
   "execution_count": null,
   "metadata": {
    "scrolled": true
   },
   "outputs": [],
   "source": [
    "data = {}\n",
    "\n",
    "s1 = 'Supplementary file 1 - Source data.xlsx'\n",
    "index = ['Diet', 'Participant ID', 'Time Point']\n",
    "for data_type in data_types:\n",
    "    header = 12 if data_type == 'metabolites' else 0\n",
    "    data[data_type] = pd.read_excel(s1, sheet_name=data_type, header=header).set_index(index)\n",
    "\n",
    "s2 = 'Supplementary file 2 - Statistical tests.xlsx'\n",
    "index = ['Diet', 'Participant ID', 'Time Point']\n",
    "for data_type in data_types:\n",
    "    for diet in diet_order:\n",
    "        data[f'{data_type} {diet}'] = pd.read_excel(s2, sheet_name=f'{data_type} {diet}').set_index('feature')\n",
    "\n",
    "s3 = 'Supplementary file 3 - Mediation analyses.xlsx'\n",
    "index = ['path', 'x', 'm', 'y']\n",
    "for med in mediation_order:\n",
    "    suffix = env_order if 'strains' in med else diet_order\n",
    "    for suf in suffix:\n",
    "        data[f'{med} {suf}'] = pd.read_excel(s3, sheet_name=f'{med} {suf.split(\" \")[0]}', index_col=[0, 1, 2, 3])\n",
    "        \n",
    "s4 = 'Supplementary file 4 - Metabolites prediction by the microbiome.xlsx'\n",
    "index = ['Diet', 'Participant ID', 'Time Point']\n",
    "data_type = 'metabolites prediction'\n",
    "data[data_type] = pd.read_excel(s4, sheet_name=data_type, header=[0, 1]).T.reset_index(0).T.set_index(index)\n",
    "\n",
    "s5 = 'Supplementary file 5 - Oral and gut microbial strains.xlsx'\n",
    "index = ['Species', 'Participant ID', 'Diet']\n",
    "for env in env_order:\n",
    "    data_type = f'{env.lower()} strains'\n",
    "    data[data_type] = pd.read_excel(s5, sheet_name=data_type).set_index(index)"
   ]
  },
  {
   "cell_type": "markdown",
   "metadata": {},
   "source": [
    "The data is saved in a dictionary, with each value being a data frame"
   ]
  },
  {
   "cell_type": "code",
   "execution_count": null,
   "metadata": {},
   "outputs": [],
   "source": [
    "for key in data.keys():\n",
    "    print(key, data[key].shape)"
   ]
  },
  {
   "cell_type": "code",
   "execution_count": null,
   "metadata": {},
   "outputs": [],
   "source": [
    "data['diet']"
   ]
  },
  {
   "cell_type": "markdown",
   "metadata": {},
   "source": [
    "# Visualization"
   ]
  },
  {
   "cell_type": "markdown",
   "metadata": {},
   "source": [
    "**if you are not familiar with matplotlib pyplot go over this tutorial https://matplotlib.org/stable/tutorials/introductory/pyplot.html**"
   ]
  },
  {
   "cell_type": "markdown",
   "metadata": {},
   "source": [
    "**if you are not familiar with seaborn go over this tutorial https://seaborn.pydata.org/tutorial/introduction.html**"
   ]
  },
  {
   "cell_type": "markdown",
   "metadata": {},
   "source": [
    "## Figure 2 - Diet"
   ]
  },
  {
   "cell_type": "markdown",
   "metadata": {},
   "source": [
    "Re-create Figure2 of the paper based on data['diet']\n",
    "- Play with the hue_order, palette and alpha seaborn parameters\n",
    "- Move the legend to each of the corners\n",
    "- Set the axes limit of both sub-plots to be the same\n",
    "- Read about the plt.text transform parameter"
   ]
  },
  {
   "cell_type": "code",
   "execution_count": null,
   "metadata": {},
   "outputs": [],
   "source": []
  },
  {
   "cell_type": "markdown",
   "metadata": {},
   "source": [
    "Here is an example of how to do it"
   ]
  },
  {
   "cell_type": "code",
   "execution_count": null,
   "metadata": {},
   "outputs": [],
   "source": [
    "df = data['diet'].reset_index()"
   ]
  },
  {
   "cell_type": "code",
   "execution_count": null,
   "metadata": {
    "scrolled": false
   },
   "outputs": [],
   "source": [
    "for time_point in time_point_order:\n",
    "    \n",
    "    plt.figure()\n",
    "    ax = sns.scatterplot(x='% Carbohydrates', y='% Lipids', hue='Diet', hue_order=diet_order, data=df[df['Time Point'] == time_point], palette=colors, alpha=0.5, s=100)\n",
    "\n",
    "    plt.legend(title=False, loc='upper right', frameon=True)\n",
    "\n",
    "    plt.title('Intervention' if time_point == 'Post-intervention' else time_point)\n",
    "    plt.xlabel('% Carbohydrates in diet')\n",
    "    plt.ylabel('% Lipids in diet')\n",
    "    plt.xlim([9, 55])\n",
    "    plt.ylim([15, 75])\n",
    "    \n",
    "    plt.text(x=0, y=1.03, s='a' if time_point == 'Pre-intervention' else 'b', transform=ax.transAxes, size=20, weight='bold')   \n",
    "\n",
    "    plt.savefig(f'Figure 2{\"a\" if time_point == \"Pre-intervention\" else \"b\"}')"
   ]
  },
  {
   "cell_type": "markdown",
   "metadata": {},
   "source": [
    "# Statistical tests"
   ]
  },
  {
   "cell_type": "markdown",
   "metadata": {},
   "source": [
    "Refresh your memory on statistical tests https://doi.org/10.4103/0974-7788.72494"
   ]
  },
  {
   "cell_type": "markdown",
   "metadata": {},
   "source": [
    "Which test would you chose for between diet group comparison? why?"
   ]
  },
  {
   "cell_type": "code",
   "execution_count": null,
   "metadata": {},
   "outputs": [],
   "source": []
  },
  {
   "cell_type": "markdown",
   "metadata": {},
   "source": [
    "Was the basline age, gender and BMI the same between the groups?"
   ]
  },
  {
   "cell_type": "code",
   "execution_count": null,
   "metadata": {},
   "outputs": [],
   "source": []
  },
  {
   "cell_type": "markdown",
   "metadata": {},
   "source": [
    "Here is an example of how to do it"
   ]
  },
  {
   "cell_type": "code",
   "execution_count": null,
   "metadata": {
    "scrolled": true
   },
   "outputs": [],
   "source": [
    "for col in ['Age', 'Gender', 'BMI']:\n",
    "    col\n",
    "    local_df = df.xs('Pre-intervention', level='Time Point')[col].dropna()\n",
    "    mannwhitneyu(local_df.loc[diet_order[0]], local_df.loc[diet_order[1]])"
   ]
  },
  {
   "cell_type": "markdown",
   "metadata": {},
   "source": [
    "Which test would you chose for within diet group comparison? why?"
   ]
  },
  {
   "cell_type": "markdown",
   "metadata": {},
   "source": []
  },
  {
   "cell_type": "markdown",
   "metadata": {},
   "source": [
    "Within each of the diet groups check if there was a signfiicant difference in the three glycemic measurments"
   ]
  },
  {
   "cell_type": "code",
   "execution_count": null,
   "metadata": {},
   "outputs": [],
   "source": []
  },
  {
   "cell_type": "markdown",
   "metadata": {},
   "source": [
    "Here is an example of how to do it"
   ]
  },
  {
   "cell_type": "code",
   "execution_count": null,
   "metadata": {},
   "outputs": [],
   "source": [
    "for diet in diet_order:\n",
    "    diet\n",
    "    \n",
    "    for col in ['Time_above_140', 'bt__hba1c', 'OGTT']:\n",
    "        col\n",
    "        \n",
    "        local_df = df.loc[diet, col]\n",
    "        nan_participants = local_df[local_df.isna()].index.get_level_values('Participant ID')\n",
    "        local_df = local_df[~local_df.index.get_level_values('Participant ID').isin(nan_participants)]\n",
    "        \n",
    "        mannwhitneyu(local_df.xs(time_point_order[0], level='Time Point'), \n",
    "                     local_df.xs(time_point_order[1], level='Time Point'))\n",
    "        \n",
    "    print()"
   ]
  },
  {
   "cell_type": "markdown",
   "metadata": {},
   "source": [
    "## Figure 3 - Features"
   ]
  },
  {
   "cell_type": "markdown",
   "metadata": {},
   "source": [
    "**Read the results section titled \"The PPT diet had bigger effect on the microbiome and metabolites than the MED diet\"\\\n",
    "(Microbiome, Metabolites and Cytokines)**\\\n",
    "All the statistical tests results described in this section are in Supplementary file 2"
   ]
  },
  {
   "cell_type": "markdown",
   "metadata": {},
   "source": [
    "**Read the methods sections titled \"Feature analysis\" and \"Statistics\"**"
   ]
  },
  {
   "cell_type": "markdown",
   "metadata": {},
   "source": [
    "This is the gut microbial species relative abundance data"
   ]
  },
  {
   "cell_type": "code",
   "execution_count": null,
   "metadata": {
    "scrolled": false
   },
   "outputs": [],
   "source": [
    "data['gut species']"
   ]
  },
  {
   "cell_type": "markdown",
   "metadata": {},
   "source": [
    "The column names represent the species by their phylgentics"
   ]
  },
  {
   "cell_type": "code",
   "execution_count": null,
   "metadata": {},
   "outputs": [],
   "source": [
    "data['gut species'].columns"
   ]
  },
  {
   "cell_type": "markdown",
   "metadata": {},
   "source": [
    "First in a taxonomical level"
   ]
  },
  {
   "cell_type": "code",
   "execution_count": null,
   "metadata": {},
   "outputs": [],
   "source": [
    "data['gut species'].columns.str.split('|').str[:7]"
   ]
  },
  {
   "cell_type": "markdown",
   "metadata": {},
   "source": [
    "Looking at one species makes it more clear"
   ]
  },
  {
   "cell_type": "code",
   "execution_count": null,
   "metadata": {},
   "outputs": [],
   "source": [
    "data['gut species'].columns.str.split('|').str[:7][0]"
   ]
  },
  {
   "cell_type": "markdown",
   "metadata": {},
   "source": [
    "Secondly from an ID prespective"
   ]
  },
  {
   "cell_type": "code",
   "execution_count": null,
   "metadata": {},
   "outputs": [],
   "source": [
    "data['gut species'].columns.str.split('|').str[7:]"
   ]
  },
  {
   "cell_type": "code",
   "execution_count": null,
   "metadata": {},
   "outputs": [],
   "source": [
    "data['gut species'].columns.str.split('|').str[7:][0]"
   ]
  },
  {
   "cell_type": "markdown",
   "metadata": {},
   "source": [
    "These are the significantly changed gut species in the PPT arm"
   ]
  },
  {
   "cell_type": "code",
   "execution_count": null,
   "metadata": {
    "scrolled": false
   },
   "outputs": [],
   "source": [
    "data['gut species PPT diet'][data['gut species PPT diet']['p_bonferroni'] < alpha]"
   ]
  },
  {
   "cell_type": "markdown",
   "metadata": {},
   "source": [
    "These are the significantly changed gut species in the MED arm"
   ]
  },
  {
   "cell_type": "code",
   "execution_count": null,
   "metadata": {},
   "outputs": [],
   "source": [
    "data['gut species MED diet'][data['gut species MED diet']['p_bonferroni'] < alpha]"
   ]
  },
  {
   "cell_type": "markdown",
   "metadata": {},
   "source": [
    "Visualize the significant results\n",
    "- it does not have to be in the same type of figure as in the paper\n",
    "- but it should include the same aspects of information\n",
    "\n",
    "For example:\n",
    "- the species ID (e.g. sSGB__714), name (e.g. Methanobrevibacter smithii) and family (e.g. Methanobacteriaceae)\n",
    "- the direction of change in each group"
   ]
  },
  {
   "cell_type": "code",
   "execution_count": null,
   "metadata": {},
   "outputs": [],
   "source": []
  },
  {
   "cell_type": "markdown",
   "metadata": {},
   "source": [
    "Here is an example of how to do it"
   ]
  },
  {
   "cell_type": "code",
   "execution_count": null,
   "metadata": {},
   "outputs": [],
   "source": [
    "def get_data(data_type):\n",
    "    \n",
    "    for i, diet in enumerate(diet_order):\n",
    "        key = f'{data_type} {diet}'\n",
    "        col = 'p_FDR' if data_type == 'cytokines' else 'p_bonferroni'\n",
    "        new = get_delta(data[data_type].loc[diet, data[key].index[data[key][col] < alpha]]).mean().to_frame(diet)\n",
    "        df = new.copy() if i == 0 else df.join(new, how='outer').fillna(0)\n",
    "        \n",
    "    return df"
   ]
  },
  {
   "cell_type": "code",
   "execution_count": null,
   "metadata": {},
   "outputs": [],
   "source": [
    "metabolite2super_pathway = pd.read_excel(s1, sheet_name='metabolites')\n",
    "metabolite2super_pathway = metabolite2super_pathway.set_index('PATHWAY_SORTORDER').loc[['Diet', 'SUPER_PATHWAY']].T.set_index('Diet').fillna('unknown').iloc[2:].replace('Partially Characterized Molecules', 'Partially Characterized').to_dict()['SUPER_PATHWAY']"
   ]
  },
  {
   "cell_type": "code",
   "execution_count": null,
   "metadata": {
    "scrolled": false
   },
   "outputs": [],
   "source": [
    "for data_type in data_types:\n",
    "    \n",
    "    df = get_data(data_type)\n",
    "        \n",
    "    if df.shape[0] < 10:\n",
    "        continue\n",
    "              \n",
    "    radius = np.log10(df.shape[0])\n",
    "    step = radius/8\n",
    "    \n",
    "    cmap = plt.get_cmap('bwr')\n",
    "    norm = mpl.colors.Normalize(vmin=-df.abs().max().max() if data_type != 'diet' else -10, vmax=df.abs().max().max() if data_type != 'diet' else 10)\n",
    "    \n",
    "    if data_type == 'diet':\n",
    "        df['Level'] = 'Food category'\n",
    "        df.loc[df.index.str.contains('%'), 'Level'] = 'Macro-nutrient'\n",
    "        df.loc[df.index.str.contains(']'), 'Level'] = 'Micro-nutrient'\n",
    "        # sort\n",
    "        df = df.loc[[idx for idx in ['% Carbohydrates', '% Lipids', '% Proteins', '% Daily caloric target', '% Fibers', \n",
    "                                     '% Mono un-saturated fatty acids', '% Poly un-saturated fatty acids', '% Saturated fatty acids']\n",
    "                         if idx in df.index] + \n",
    "                     sorted([idx for idx in df.index if '[' in idx]) + \n",
    "                     sorted([idx for idx in df.index if '%' not in idx and '[' not in idx])]\n",
    "    elif 'species' in data_type:\n",
    "        df['Family'] = df.index.str.split('|').str[-6].str.replace('f__', '').str.replace('_unclassified', '').str.replace('unknown', 'Unclassified')\n",
    "        df.index = df.index.str.split('|').str[-4].str.replace('s__', '').str.replace('_', ' ').str.replace('unknown', 'Unclassified') + ' (' + df.index.str.split('|').str[-1].str.replace('sSGB__', 'SGB_') + ')'\n",
    "        df.index = ['Unclassified ' + index.split(' ')[-1] if 'sp' in index or 'CAG' in index else index for index in df.index]\n",
    "        df = df.sort_values('Family')\n",
    "    elif data_type == 'metabolites':\n",
    "        df['Super Pathway'] = df.index.map(metabolite2super_pathway).str.replace('unknown', 'Uncharacterized')\n",
    "        df = df.sort_values('Super Pathway')\n",
    "    elif 'pathways' in data_type:\n",
    "        super_class = {  # curated manually from MetCyc\n",
    "            'ARGSYNBSUB-PWY: L-arginine biosynthesis II (acetyl cycle)' : 'Amino Acid Biosynthesis',\n",
    "            'ARGSYN-PWY: L-arginine biosynthesis I (via L-ornithine)': 'Amino Acid Biosynthesis',\n",
    "            'GLUTORN-PWY: L-ornithine biosynthesis I': 'Amino Acid Biosynthesis',\n",
    "            'PWY-6292: superpathway of L-cysteine biosynthesis (mammalian)': 'Amino Acid Biosynthesis',\n",
    "            'PWY-6507: 4-deoxy-L-threo-hex-4-enopyranuronate degradation': 'Sugar Degradation',\n",
    "            'GALACTUROCAT-PWY: D-galacturonate degradation I': 'Sugar Degradation',\n",
    "            'PWY-7356: thiamine diphosphate salvage IV (yeast)': 'Cofactor&Vitamin Biosynthesis',#'Cofactor, Carrier, and Vitamin Biosynthesis',\n",
    "            'GLUCUROCAT-PWY: superpathway of &beta;-D-glucuronosides degradation': 'Sugar Degradation',\n",
    "            'PWY-7242: D-fructuronate degradation': 'Sugar Degradation',\n",
    "            'PWY-7456: &beta;-(1,4)-mannan degradation': 'Polysaccharide Degradation',\n",
    "            'PWY66-399: gluconeogenesis III': 'Sugar Biosynthesis',\n",
    "            'PWY-7383: anaerobic energy metabolism (invertebrates, cytosol)': 'zOther',#'Fermentation',\n",
    "            'PWY490-3: nitrate reduction VI (assimilatory)': 'zOther',#'Inorganic Nutrient Metabolism',\n",
    "            'PWY-6305: superpathway of putrescine biosynthesis': 'zOther',#'Amide, Amidine, Amine, and Polyamine Biosynthesis',\n",
    "            'P124-PWY: Bifidobacterium shunt': 'Sugar Degradation',\n",
    "            'PWY-5941: glycogen degradation II': 'Polysaccharide Degradation',\n",
    "            'PWY-7238: sucrose biosynthesis II': 'Sugar Biosynthesis',\n",
    "            'PWY0-1296: purine ribonucleosides degradation': 'zOther',#'Nucleoside and Nucleotide Degradation',\n",
    "            'PWY-6147: 6-hydroxymethyl-dihydropterin diphosphate biosynthesis I': 'zOther',#'Other Biosynthesis',\n",
    "            'PWY-6549: L-glutamine biosynthesis III': 'zOther',#'Transport',\n",
    "            'PWY-6703: preQ0 biosynthesis': 'zOther',#'Secondary Metabolite Biosynthesis',\n",
    "            'PWY-6823: molybdopterin biosynthesis': 'Cofactor&Vitamin Biosynthesis',#'Cofactor, Carrier, and Vitamin Biosynthesis',\n",
    "            'PWY-241: C4 photosynthetic carbon assimilation cycle, NADP-ME type': 'Carbon Fixation',#'Generation of Precursor Metabolites and Energy',\n",
    "            'PWY-7115: C4 photosynthetic carbon assimilation cycle, NAD-ME type': 'Carbon Fixation',#'Generation of Precursor Metabolites and Energy',\n",
    "            'PWY-7117: C4 photosynthetic carbon assimilation cycle, PEPCK type': 'Carbon Fixation'}#'Generation of Precursor Metabolites and Energy'}\n",
    "        df['Super Class'] = df.index.map(super_class)\n",
    "        df = df.sort_values('Super Class').replace('zOther', 'Other')\n",
    "        \n",
    "    df.loc[' '] = ''\n",
    "    df.loc['Diet'] = df.columns\n",
    "    df.loc['   '] = ''\n",
    "\n",
    "    fig, ax = plt.subplots()\n",
    "\n",
    "    for i, diet in enumerate(df.columns):\n",
    "        if diet in diet_order:\n",
    "            c = cmap(norm(df[diet_order[i]][:-3].astype(float))).tolist() + ['white', colors[diet], 'white']\n",
    "        else:\n",
    "            cmap = mpl.cm.Pastel1\n",
    "            norm = mpl.colors.Normalize(vmin=0, vmax=8)\n",
    "            c = {cat: cmap(norm(i)) for i, cat in enumerate(df[diet][:-3].unique())}\n",
    "            c = [c[v] for v in df[diet][:-3]] + ['white', 'white', 'white']\n",
    "        \n",
    "        pie, labels = ax.pie([1 for i in range(df.shape[0])], colors=c,\n",
    "                             radius=radius-i*step, startangle=0,\n",
    "                             labels=df[diet_order[i]].index if i == 0 else None, rotatelabels=True, labeldistance=1,\n",
    "                             wedgeprops={'width':step, 'edgecolor':'w'})\n",
    "\n",
    "        _ = plt.setp(pie, width=step, edgecolor='white')\n",
    "        \n",
    "    if diet not in diet_order:\n",
    "        index = df[diet][:-3].reset_index().index[~df[diet][:-3].duplicated()]\n",
    "        legend = ax.legend([pie[i] for i in index], [df[diet][i] for i in index], \n",
    "                           title=diet, loc='center', bbox_to_anchor=(0., 0, 1, 1.), frameon=False)\n",
    "    \n",
    "    extra = {'diet':        {'x': -0.40, 'y': 1.55, 'l': 'a', 'title': '     Diet'},\n",
    "             'gut species': {'x': -0.78, 'y': 1.45, 'l': 'b', 'title': '     Gut species'},\n",
    "             'gut pathways': {'x': -1.20, 'y': 2.20, 'l': 'c', 'title': '     Gut pathways'},\n",
    "             'metabolites': {'x': -1.20, 'y': 2.20, 'l': 'd', 'title': '     Metabolites'}}\n",
    "    \n",
    "    _ = plt.text(x=extra[data_type]['x'], y=extra[data_type]['y'], s=extra[data_type]['l'], transform=ax.transAxes, size=20, weight='bold')   \n",
    "    _ = plt.text(x=extra[data_type]['x'], y=extra[data_type]['y'], s=extra[data_type]['title'], transform=ax.transAxes)   \n",
    "    \n",
    "    plt.savefig(f'Figure 3{extra[data_type][\"l\"]}', bbox_inches='tight')"
   ]
  }
 ],
 "metadata": {
  "kernelspec": {
   "display_name": "Python 3",
   "language": "python",
   "name": "python3"
  },
  "language_info": {
   "codemirror_mode": {
    "name": "ipython",
    "version": 3
   },
   "file_extension": ".py",
   "mimetype": "text/x-python",
   "name": "python",
   "nbconvert_exporter": "python",
   "pygments_lexer": "ipython3",
   "version": "3.7.4"
  },
  "toc": {
   "nav_menu": {},
   "number_sections": true,
   "sideBar": true,
   "skip_h1_title": false,
   "toc_cell": false,
   "toc_position": {
    "height": "758.949px",
    "left": "0px",
    "right": "1533.47px",
    "top": "111.051px",
    "width": "211.989px"
   },
   "toc_section_display": "block",
   "toc_window_display": true
  }
 },
 "nbformat": 4,
 "nbformat_minor": 4
}
